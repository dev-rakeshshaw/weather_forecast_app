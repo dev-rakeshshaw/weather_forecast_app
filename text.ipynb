{
 "cells": [
  {
   "cell_type": "code",
   "execution_count": 1,
   "id": "f1250999",
   "metadata": {},
   "outputs": [],
   "source": [
    "import requests\n",
    "import json\n",
    "from tkinter import *\n",
    "import tkinter as tk\n",
    "from geopy.geocoders import Nominatim\n",
    "from tkinter import ttk,messagebox\n",
    "from timezonefinder import TimezoneFinder\n",
    "from datetime import *\n",
    "import pytz\n",
    "from PIL import Image, ImageTk\n"
   ]
  },
  {
   "cell_type": "code",
   "execution_count": 2,
   "id": "91171220",
   "metadata": {},
   "outputs": [],
   "source": [
    "city=\"kolkata\""
   ]
  },
  {
   "cell_type": "code",
   "execution_count": 3,
   "id": "8d8dda6f",
   "metadata": {},
   "outputs": [
    {
     "name": "stdout",
     "output_type": "stream",
     "text": [
      "Asia/Kolkata\n",
      "(22.5727° N,88.3639° E)\n",
      "07:44 PM IST\n",
      "28/11/2022\n"
     ]
    }
   ],
   "source": [
    "#Finding the Latitude and Longitude for the City\n",
    "geolocator = Nominatim(user_agent=\"geoapiExercises\")\n",
    "location=geolocator.geocode(city)\n",
    "obj = TimezoneFinder()\n",
    "result=obj.timezone_at(lng=location.longitude,lat=location.latitude)\n",
    "# timezone.config(text=result)\n",
    "# long_lat.config(text=f\"({round(location.latitude,4)}° N,{round(location.longitude,4)}° E)\")\n",
    "\n",
    "print(result)\n",
    "print(f\"({round(location.latitude,4)}° N,{round(location.longitude,4)}° E)\")\n",
    "\n",
    "#Finding the Current date and time for the City using Lat. snd Long.\n",
    "home = pytz.timezone(result)\n",
    "local_time=datetime.now(home)\n",
    "current_time=local_time.strftime(\"%I:%M %p %Z\")\n",
    "current_date=local_time.strftime(\"%d/%m/%Y\")\n",
    "# clock.config(text=current_time)\n",
    "# date_.config(text=current_date)\n",
    "\n",
    "print(current_time)\n",
    "print(current_date)"
   ]
  },
  {
   "cell_type": "code",
   "execution_count": 4,
   "id": "0199a174",
   "metadata": {},
   "outputs": [],
   "source": [
    "# api = (f\"https://weather.visualcrossing.com/VisualCrossingWebServices/rest/services/timeline/{location.latitude},{location.longitude}/next7days?unitGroup=metric&maxDistance=200000&elements=datetime%2Ctempmax%2Ctempmin%2Ctemp%2Cfeelslike%2Chumidity%2Cwindspeed%2Cwinddir%2Cpressure%2Ccloudcover%2Cconditions%2Cdescription%2Cicon&include=stats%2Cstatsfcst%2Cobs%2Cremote%2Cfcst%2Cdays%2Ccurrent&key=A9MYG5NFY46JJ5M6RVFG6SSXM&maxStations=30&contentType=json\")\n",
    "api = (f\"https://weather.visualcrossing.com/VisualCrossingWebServices/rest/services/timeline/{location.latitude},{location.longitude}/next7days?unitGroup=metric&elements=datetime%2Ctempmax%2Ctempmin%2Ctemp%2Cfeelslike%2Chumidity%2Cwindspeed%2Cwinddir%2Cpressure%2Ccloudcover%2Csunrise%2Csunset%2Cmoonphase%2Cconditions%2Cdescription%2Cicon&include=days%2Ccurrent&key=A9MYG5NFY46JJ5M6RVFG6SSXM&contentType=json\")"
   ]
  },
  {
   "cell_type": "code",
   "execution_count": 5,
   "id": "97eb9d9c",
   "metadata": {
    "scrolled": true
   },
   "outputs": [
    {
     "name": "stdout",
     "output_type": "stream",
     "text": [
      "{\n",
      "    \"queryCost\": 1,\n",
      "    \"latitude\": 22.5726723,\n",
      "    \"longitude\": 88.3638815,\n",
      "    \"resolvedAddress\": \"22.5726723,88.3638815\",\n",
      "    \"address\": \"22.5726723,88.3638815\",\n",
      "    \"timezone\": \"Asia/Kolkata\",\n",
      "    \"tzoffset\": 5.5,\n",
      "    \"days\": [\n",
      "        {\n",
      "            \"datetime\": \"2022-11-28\",\n",
      "            \"tempmax\": 29.0,\n",
      "            \"tempmin\": 18.0,\n",
      "            \"temp\": 23.4,\n",
      "            \"feelslike\": 23.4,\n",
      "            \"humidity\": 59.3,\n",
      "            \"windspeed\": 14.8,\n",
      "            \"winddir\": 357.5,\n",
      "            \"pressure\": 1010.0,\n",
      "            \"cloudcover\": 0.0,\n",
      "            \"sunrise\": \"05:57:45\",\n",
      "            \"sunset\": \"16:50:58\",\n",
      "            \"moonphase\": 0.13,\n",
      "            \"conditions\": \"Clear\",\n",
      "            \"description\": \"Clear conditions throughout the day.\",\n",
      "            \"icon\": \"clear-day\"\n",
      "        },\n",
      "        {\n",
      "            \"datetime\": \"2022-11-29\",\n",
      "            \"tempmax\": 30.2,\n",
      "            \"tempmin\": 19.3,\n",
      "            \"temp\": 24.5,\n",
      "            \"feelslike\": 24.1,\n",
      "            \"humidity\": 39.6,\n",
      "            \"windspeed\": 12.2,\n",
      "            \"winddir\": 352.4,\n",
      "            \"pressure\": 1011.9,\n",
      "            \"cloudcover\": 0.0,\n",
      "            \"sunrise\": \"05:58:26\",\n",
      "            \"sunset\": \"16:50:59\",\n",
      "            \"moonphase\": 0.19,\n",
      "            \"conditions\": \"Clear\",\n",
      "            \"description\": \"Clear conditions throughout the day.\",\n",
      "            \"icon\": \"clear-day\"\n",
      "        },\n",
      "        {\n",
      "            \"datetime\": \"2022-11-30\",\n",
      "            \"tempmax\": 30.6,\n",
      "            \"tempmin\": 19.8,\n",
      "            \"temp\": 24.8,\n",
      "            \"feelslike\": 24.4,\n",
      "            \"humidity\": 41.0,\n",
      "            \"windspeed\": 13.3,\n",
      "            \"winddir\": 352.4,\n",
      "            \"pressure\": 1012.6,\n",
      "            \"cloudcover\": 0.0,\n",
      "            \"sunrise\": \"05:59:07\",\n",
      "            \"sunset\": \"16:51:02\",\n",
      "            \"moonphase\": 0.24,\n",
      "            \"conditions\": \"Clear\",\n",
      "            \"description\": \"Clear conditions throughout the day.\",\n",
      "            \"icon\": \"clear-day\"\n",
      "        },\n",
      "        {\n",
      "            \"datetime\": \"2022-12-01\",\n",
      "            \"tempmax\": 30.7,\n",
      "            \"tempmin\": 20.0,\n",
      "            \"temp\": 24.8,\n",
      "            \"feelslike\": 24.4,\n",
      "            \"humidity\": 37.6,\n",
      "            \"windspeed\": 14.8,\n",
      "            \"winddir\": 350.9,\n",
      "            \"pressure\": 1012.2,\n",
      "            \"cloudcover\": 1.2,\n",
      "            \"sunrise\": \"05:59:47\",\n",
      "            \"sunset\": \"16:51:06\",\n",
      "            \"moonphase\": 0.3,\n",
      "            \"conditions\": \"Clear\",\n",
      "            \"description\": \"Clear conditions throughout the day.\",\n",
      "            \"icon\": \"clear-day\"\n",
      "        },\n",
      "        {\n",
      "            \"datetime\": \"2022-12-02\",\n",
      "            \"tempmax\": 30.3,\n",
      "            \"tempmin\": 19.1,\n",
      "            \"temp\": 24.3,\n",
      "            \"feelslike\": 23.9,\n",
      "            \"humidity\": 29.9,\n",
      "            \"windspeed\": 15.5,\n",
      "            \"winddir\": 351.5,\n",
      "            \"pressure\": 1012.1,\n",
      "            \"cloudcover\": 0.3,\n",
      "            \"sunrise\": \"06:00:28\",\n",
      "            \"sunset\": \"16:51:11\",\n",
      "            \"moonphase\": 0.35,\n",
      "            \"conditions\": \"Clear\",\n",
      "            \"description\": \"Clear conditions throughout the day.\",\n",
      "            \"icon\": \"clear-day\"\n",
      "        },\n",
      "        {\n",
      "            \"datetime\": \"2022-12-03\",\n",
      "            \"tempmax\": 29.9,\n",
      "            \"tempmin\": 18.9,\n",
      "            \"temp\": 24.0,\n",
      "            \"feelslike\": 23.6,\n",
      "            \"humidity\": 26.6,\n",
      "            \"windspeed\": 15.1,\n",
      "            \"winddir\": 341.8,\n",
      "            \"pressure\": 1012.3,\n",
      "            \"cloudcover\": 2.8,\n",
      "            \"sunrise\": \"06:01:08\",\n",
      "            \"sunset\": \"16:51:18\",\n",
      "            \"moonphase\": 0.4,\n",
      "            \"conditions\": \"Clear\",\n",
      "            \"description\": \"Clear conditions throughout the day.\",\n",
      "            \"icon\": \"clear-day\"\n",
      "        },\n",
      "        {\n",
      "            \"datetime\": \"2022-12-04\",\n",
      "            \"tempmax\": 29.7,\n",
      "            \"tempmin\": 18.6,\n",
      "            \"temp\": 23.7,\n",
      "            \"feelslike\": 23.3,\n",
      "            \"humidity\": 28.6,\n",
      "            \"windspeed\": 16.9,\n",
      "            \"winddir\": 344.4,\n",
      "            \"pressure\": 1012.8,\n",
      "            \"cloudcover\": 24.0,\n",
      "            \"sunrise\": \"06:01:48\",\n",
      "            \"sunset\": \"16:51:26\",\n",
      "            \"moonphase\": 0.44,\n",
      "            \"conditions\": \"Partially cloudy\",\n",
      "            \"description\": \"Partly cloudy throughout the day.\",\n",
      "            \"icon\": \"partly-cloudy-day\"\n",
      "        },\n",
      "        {\n",
      "            \"datetime\": \"2022-12-05\",\n",
      "            \"tempmax\": 29.3,\n",
      "            \"tempmin\": 18.0,\n",
      "            \"temp\": 23.3,\n",
      "            \"feelslike\": 23.0,\n",
      "            \"humidity\": 30.5,\n",
      "            \"windspeed\": 14.4,\n",
      "            \"winddir\": 342.3,\n",
      "            \"pressure\": 1012.3,\n",
      "            \"cloudcover\": 4.8,\n",
      "            \"sunrise\": \"06:02:28\",\n",
      "            \"sunset\": \"16:51:35\",\n",
      "            \"moonphase\": 0.47,\n",
      "            \"conditions\": \"Clear\",\n",
      "            \"description\": \"Clear conditions throughout the day.\",\n",
      "            \"icon\": \"clear-day\"\n",
      "        }\n",
      "    ],\n",
      "    \"currentConditions\": {\n",
      "        \"datetime\": \"19:00:00\",\n",
      "        \"temp\": 23.9,\n",
      "        \"feelslike\": 23.9,\n",
      "        \"humidity\": 60.9,\n",
      "        \"windspeed\": 5.4,\n",
      "        \"winddir\": 10.0,\n",
      "        \"pressure\": 1010.0,\n",
      "        \"cloudcover\": 0.0,\n",
      "        \"conditions\": \"Clear\",\n",
      "        \"icon\": \"clear-night\",\n",
      "        \"sunrise\": \"05:57:45\",\n",
      "        \"sunset\": \"16:50:58\",\n",
      "        \"moonphase\": 0.13\n",
      "    }\n",
      "}\n"
     ]
    }
   ],
   "source": [
    "json_data=requests.get(api).json()\n",
    "\n",
    "json_pretty = json.dumps(json_data, indent=4)\n",
    "\n",
    "print(json_pretty)"
   ]
  },
  {
   "cell_type": "code",
   "execution_count": 6,
   "id": "2649753a",
   "metadata": {},
   "outputs": [
    {
     "data": {
      "text/plain": [
       "{'datetime': '19:00:00',\n",
       " 'temp': 23.9,\n",
       " 'feelslike': 23.9,\n",
       " 'humidity': 60.9,\n",
       " 'windspeed': 5.4,\n",
       " 'winddir': 10.0,\n",
       " 'pressure': 1010.0,\n",
       " 'cloudcover': 0.0,\n",
       " 'conditions': 'Clear',\n",
       " 'icon': 'clear-night',\n",
       " 'sunrise': '05:57:45',\n",
       " 'sunset': '16:50:58',\n",
       " 'moonphase': 0.13}"
      ]
     },
     "execution_count": 6,
     "metadata": {},
     "output_type": "execute_result"
    }
   ],
   "source": [
    "json_data[\"currentConditions\"]"
   ]
  },
  {
   "cell_type": "code",
   "execution_count": 7,
   "id": "90eba864",
   "metadata": {},
   "outputs": [],
   "source": [
    "temp = json_data[\"currentConditions\"][\"temp\"]\n",
    "humidity = json_data[\"currentConditions\"][\"humidity\"]\n",
    "pressure = json_data[\"currentConditions\"][\"pressure\"]\n",
    "windspeed = json_data[\"currentConditions\"][\"windspeed\"]\n",
    "conditions = json_data[\"currentConditions\"][\"conditions\"]\n",
    "icon = json_data[\"currentConditions\"]['icon']\n",
    "sunrise = json_data[\"currentConditions\"]['sunrise']\n",
    "sunset = json_data[\"currentConditions\"]['sunrise']"
   ]
  },
  {
   "cell_type": "code",
   "execution_count": 8,
   "id": "92d44b6c",
   "metadata": {},
   "outputs": [
    {
     "name": "stdout",
     "output_type": "stream",
     "text": [
      "23.9\n",
      "60.9\n",
      "1010.0\n",
      "5.4\n",
      "Clear\n",
      "clear-night\n",
      "05:57:45\n",
      "05:57:45\n"
     ]
    }
   ],
   "source": [
    "print(temp)\n",
    "print(humidity)\n",
    "print(pressure)\n",
    "print(windspeed)\n",
    "print(conditions)\n",
    "print(icon)\n",
    "print(sunrise)\n",
    "print(sunset)"
   ]
  },
  {
   "cell_type": "code",
   "execution_count": 9,
   "id": "ede79060",
   "metadata": {},
   "outputs": [
    {
     "name": "stdout",
     "output_type": "stream",
     "text": [
      "30.2\n",
      "19.3\n"
     ]
    }
   ],
   "source": [
    "print(json_data[\"days\"][1][\"tempmax\"])\n",
    "print(json_data[\"days\"][1][\"tempmin\"])"
   ]
  },
  {
   "cell_type": "code",
   "execution_count": null,
   "id": "19f3f2ef",
   "metadata": {},
   "outputs": [],
   "source": []
  }
 ],
 "metadata": {
  "kernelspec": {
   "display_name": "Python 3 (ipykernel)",
   "language": "python",
   "name": "python3"
  },
  "language_info": {
   "codemirror_mode": {
    "name": "ipython",
    "version": 3
   },
   "file_extension": ".py",
   "mimetype": "text/x-python",
   "name": "python",
   "nbconvert_exporter": "python",
   "pygments_lexer": "ipython3",
   "version": "3.9.15"
  }
 },
 "nbformat": 4,
 "nbformat_minor": 5
}
